{
 "cells": [
  {
   "cell_type": "markdown",
   "metadata": {},
   "source": [
    "# Notebook for extracting gold information from match timelines from database"
   ]
  },
  {
   "cell_type": "markdown",
   "metadata": {},
   "source": [
    "## Script for extraction"
   ]
  },
  {
   "cell_type": "markdown",
   "metadata": {},
   "source": [
    "### init mongo"
   ]
  },
  {
   "cell_type": "code",
   "execution_count": null,
   "metadata": {},
   "outputs": [],
   "source": [
    "%pip install pymongo\n",
    "\n",
    "from pymongo import MongoClient"
   ]
  },
  {
   "cell_type": "code",
   "execution_count": 2,
   "metadata": {},
   "outputs": [],
   "source": [
    "client = MongoClient(\"localhost\", 27017)\n",
    "\n",
    "db = client.league_of_legends\n",
    "db_match_timelines = db.match_timelines\n",
    "db_matches_gold = db.matches_gold"
   ]
  },
  {
   "cell_type": "markdown",
   "metadata": {},
   "source": [
    "### script"
   ]
  },
  {
   "cell_type": "code",
   "execution_count": 9,
   "metadata": {},
   "outputs": [],
   "source": [
    "gold_differences = []\n",
    "\n",
    "for match_timeline in db_match_timelines.find():\n",
    "    minute_15_frame = min(15, len(match_timeline['info']['frames']) - 1)\n",
    "    team_1_gold = 0\n",
    "    team_2_gold = 0\n",
    "\n",
    "    participant_number = 1\n",
    "    for participant in match_timeline['info']['frames'][minute_15_frame]['participantFrames'].values():\n",
    "        if participant_number <= 5:\n",
    "            team_1_gold += int(participant['totalGold'])\n",
    "        else:\n",
    "            team_2_gold += int(participant['totalGold'])\n",
    "        \n",
    "        participant_number += 1\n",
    "\n",
    "    winning_team = match_timeline['info']['frames'][-1]['events'][-1]['winningTeam']\n",
    "\n",
    "    gold_difference = 0\n",
    "    if winning_team == 100:\n",
    "        gold_difference = team_1_gold - team_2_gold\n",
    "    else:\n",
    "        gold_difference = team_2_gold - team_1_gold\n",
    "\n",
    "    gold_differences.append(gold_difference)"
   ]
  },
  {
   "cell_type": "code",
   "execution_count": 10,
   "metadata": {},
   "outputs": [],
   "source": [
    "for gold_difference in gold_differences:\n",
    "    db_matches_gold.insert_one({\"gold_difference\": gold_difference})"
   ]
  }
 ],
 "metadata": {
  "kernelspec": {
   "display_name": "Python 3",
   "language": "python",
   "name": "python3"
  },
  "language_info": {
   "codemirror_mode": {
    "name": "ipython",
    "version": 3
   },
   "file_extension": ".py",
   "mimetype": "text/x-python",
   "name": "python",
   "nbconvert_exporter": "python",
   "pygments_lexer": "ipython3",
   "version": "3.11.7"
  }
 },
 "nbformat": 4,
 "nbformat_minor": 2
}
